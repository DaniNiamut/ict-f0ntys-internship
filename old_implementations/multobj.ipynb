{
 "cells": [
  {
   "cell_type": "code",
   "execution_count": 195,
   "id": "2f09e1ba",
   "metadata": {},
   "outputs": [],
   "source": [
    "import torch\n",
    "from botorch.models import SingleTaskGP, MixedSingleTaskGP, SaasFullyBayesianSingleTaskGP, ModelListGP\n",
    "from botorch.models.transforms import Normalize, Standardize\n",
    "from botorch.fit import fit_gpytorch_mll\n",
    "from botorch.acquisition import LogExpectedImprovement, UpperConfidenceBound, ProbabilityOfImprovement\n",
    "from gpytorch.mlls import ExactMarginalLogLikelihood\n",
    "from botorch.optim import optimize_acqf\n",
    "from botorch import fit_fully_bayesian_model_nuts\n",
    "import numpy as np\n",
    "import matplotlib.pyplot as plt\n",
    "from IPython.display import clear_output\n",
    "import matplotlib.animation as animation\n",
    "from scipy.stats import multivariate_normal\n",
    "from botorch.utils.multi_objective.box_decompositions.dominated import DominatedPartitioning\n",
    "from botorch.acquisition.multi_objective.monte_carlo import qExpectedHypervolumeImprovement\n",
    "from botorch.acquisition.multi_objective.logei import qLogNoisyExpectedHypervolumeImprovement\n",
    "from botorch.acquisition.multi_objective.analytic import ExpectedHypervolumeImprovement\n",
    "from botorch.acquisition.multi_objective.monte_carlo import qNoisyExpectedHypervolumeImprovement\n",
    "from botorch.utils.multi_objective.box_decompositions.non_dominated import FastNondominatedPartitioning"
   ]
  },
  {
   "cell_type": "code",
   "execution_count": null,
   "id": "1bf24df0",
   "metadata": {},
   "outputs": [
    {
     "name": "stderr",
     "output_type": "stream",
     "text": [
      "C:\\Users\\danin\\AppData\\Local\\Temp\\ipykernel_17828\\191361246.py:9: InputDataWarning: The model inputs are of type torch.float32. It is strongly recommended to use double precision in BoTorch, as this improves both precision and stability and can help avoid numerical errors. See https://github.com/pytorch/botorch/discussions/1444\n",
      "  gp = SingleTaskGP(X, Y,\n",
      "C:\\Users\\danin\\AppData\\Local\\Temp\\ipykernel_17828\\191361246.py:14: InputDataWarning: The model inputs are of type torch.float32. It is strongly recommended to use double precision in BoTorch, as this improves both precision and stability and can help avoid numerical errors. See https://github.com/pytorch/botorch/discussions/1444\n",
      "  model = SaasFullyBayesianSingleTaskGP(X, Y[:,i].reshape(-1,1))\n",
      "c:\\Users\\danin\\AppData\\Local\\Programs\\Python\\Python313\\Lib\\site-packages\\botorch\\models\\utils\\assorted.py:267: InputDataWarning: Data (outcome observations) is not standardized (std = tensor([0.2497]), mean = tensor([0.4990])).Please consider scaling the input to zero mean and unit variance.\n",
      "  check_standardization(Y=train_Y, raise_on_fail=raise_on_fail)\n",
      "c:\\Users\\danin\\AppData\\Local\\Programs\\Python\\Python313\\Lib\\site-packages\\botorch\\models\\utils\\assorted.py:267: InputDataWarning: Data (outcome observations) is not standardized (std = tensor([0.1351]), mean = tensor([0.8407])).Please consider scaling the input to zero mean and unit variance.\n",
      "  check_standardization(Y=train_Y, raise_on_fail=raise_on_fail)\n"
     ]
    }
   ],
   "source": [
    "X = torch.rand(20, 2)\n",
    "Y = torch.stack([torch.sin(X[:, 0]), torch.cos(X[:, 1])], -1)\n",
    "cat_dims = [0]\n",
    "\n",
    "gp = MixedSingleTaskGP(X, Y,\n",
    "    cat_dims=cat_dims,\n",
    "    cont_kernel_factory=None)\n",
    "\n",
    "gp = SingleTaskGP(X, Y,\n",
    "    covar_module=None)\n",
    "\n",
    "models_list = []\n",
    "for i in range(Y.shape[1]):\n",
    "    model = SaasFullyBayesianSingleTaskGP(X, Y[:,i].reshape(-1,1))\n",
    "    fit_fully_bayesian_model_nuts(model, num_samples=1, disable_progbar=True)\n",
    "    models_list.append(model)\n",
    "models_list = tuple(models_list)\n",
    "#gp = ModelListGP(*models_list)\n",
    "#gp.posterior(X).mean can't be used we do the following."
   ]
  },
  {
   "cell_type": "code",
   "execution_count": null,
   "id": "3d97e6f7",
   "metadata": {},
   "outputs": [],
   "source": [
    "ref_point = [0.0, 0.0]\n",
    "\n",
    "# Partitioning from current Y\n",
    "partitioning = DominatedPartitioning(\n",
    "    ref_point=torch.tensor(ref_point),\n",
    "    Y=Y\n",
    ")\n",
    "\n",
    "# Create EHVI acquisition\n",
    "ehvi = ExpectedHypervolumeImprovement(\n",
    "    model=gp,\n",
    "    ref_point=ref_point,\n",
    "    partitioning=partitioning\n",
    ")\n",
    "\n",
    "candidate, _ = optimize_acqf(ehvi,q=1,num_restarts=10, raw_samples=1024, bounds=torch.tensor([[0.0, 0.0], [1.0, 1.0]]))"
   ]
  },
  {
   "cell_type": "code",
   "execution_count": 212,
   "id": "13787ef6",
   "metadata": {},
   "outputs": [
    {
     "data": {
      "text/plain": [
       "(torch.Size([20, 2]), torch.Size([21, 2]), torch.Size([1, 2]))"
      ]
     },
     "execution_count": 212,
     "metadata": {},
     "output_type": "execute_result"
    }
   ],
   "source": [
    "Y_new = torch.cat((Y,prediction))\n",
    "np.shape(Y), np.shape(Y_new), np.shape(prediction)\n",
    "X_new = torch.cat((X, candidate))\n",
    "np.shape(X), np.shape(X_new), np.shape(candidate)"
   ]
  },
  {
   "cell_type": "code",
   "execution_count": 198,
   "id": "71bbd9a5",
   "metadata": {},
   "outputs": [
    {
     "data": {
      "text/plain": [
       "(tensor([[0.8830, 0.2889]]), tensor(0.7093))"
      ]
     },
     "execution_count": 198,
     "metadata": {},
     "output_type": "execute_result"
    }
   ],
   "source": [
    "candidate, _"
   ]
  },
  {
   "cell_type": "code",
   "execution_count": 202,
   "id": "f6e070a2",
   "metadata": {},
   "outputs": [
    {
     "data": {
      "text/plain": [
       "tensor([[0.7522, 0.9486]], grad_fn=<TransposeBackward0>)"
      ]
     },
     "execution_count": 202,
     "metadata": {},
     "output_type": "execute_result"
    }
   ],
   "source": [
    "prediction = gp.posterior(candidate).mean\n",
    "prediction"
   ]
  },
  {
   "cell_type": "code",
   "execution_count": 28,
   "id": "0acf8ffa",
   "metadata": {},
   "outputs": [],
   "source": [
    "def poly(a, b, c, *args, ka=0, kb=0, kc=0, **kwargs):\n",
    "    print(a, b, c)\n",
    "    print(repr(args))\n",
    "    print(ka, kb, kc)\n",
    "    print(repr(kwargs))"
   ]
  },
  {
   "cell_type": "code",
   "execution_count": 29,
   "id": "4c0c6b43",
   "metadata": {},
   "outputs": [
    {
     "name": "stdout",
     "output_type": "stream",
     "text": [
      "0 1 2\n",
      "(4, 5, 6)\n",
      "0 7 0\n",
      "{'ua': 8, 'ub': 9}\n"
     ]
    }
   ],
   "source": [
    "dictt = {'a':[5],'b':[5]}\n",
    "key = 'a'\n",
    "poly(0, 1, 2, 4, 5, 6, kb=7, ua=8, ub=9)"
   ]
  }
 ],
 "metadata": {
  "kernelspec": {
   "display_name": "Python 3",
   "language": "python",
   "name": "python3"
  },
  "language_info": {
   "codemirror_mode": {
    "name": "ipython",
    "version": 3
   },
   "file_extension": ".py",
   "mimetype": "text/x-python",
   "name": "python",
   "nbconvert_exporter": "python",
   "pygments_lexer": "ipython3",
   "version": "3.13.3"
  }
 },
 "nbformat": 4,
 "nbformat_minor": 5
}
