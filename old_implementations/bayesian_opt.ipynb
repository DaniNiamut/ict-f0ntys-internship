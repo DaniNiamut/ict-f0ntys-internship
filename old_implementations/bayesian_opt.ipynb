{
 "cells": [
  {
   "cell_type": "code",
   "execution_count": 11,
   "metadata": {},
   "outputs": [],
   "source": [
    "import torch\n",
    "from botorch.models import SingleTaskGP\n",
    "from botorch.models.transforms import Normalize, Standardize\n",
    "from botorch.fit import fit_gpytorch_mll\n",
    "from botorch.acquisition import LogExpectedImprovement, UpperConfidenceBound\n",
    "from botorch.acquisition.analytic import LogProbabilityOfImprovement, ProbabilityOfImprovement\n",
    "from gpytorch.mlls import ExactMarginalLogLikelihood\n",
    "from botorch.optim import optimize_acqf\n",
    "from botorch.models.cost import AffineFidelityCostModel\n",
    "import numpy as np\n",
    "import matplotlib.pyplot as plt\n",
    "from botorch.acquisition.analytic import AnalyticAcquisitionFunction\n",
    "from botorch.acquisition.utils import repeat_to_match_aug_dim\n",
    "from abc import ABC, abstractmethod\n",
    "from botorch.acquisition import qLogExpectedImprovement\n",
    "\n",
    "def poly(x):\n",
    "    return (-0.001 * x**6 + 0.003 * x**5 + 0.062 * x**4 - \n",
    "            0.174 * x**3 - 0.673 * x**2 + 1.323 * x + 1.764)"
   ]
  },
  {
   "cell_type": "code",
   "execution_count": 2,
   "metadata": {},
   "outputs": [],
   "source": [
    "train_X = np.random.uniform(low = -5, high = 5, size = 10)\n",
    "Y = poly(train_X)\n",
    "Y = torch.tensor(Y.reshape(-1,1))\n",
    "Y = Y  #+ 0.1 * torch.randn_like(Y)  # add some noise\n",
    "train_X = torch.tensor(train_X.reshape(-1,1))"
   ]
  },
  {
   "cell_type": "code",
   "execution_count": 3,
   "metadata": {},
   "outputs": [],
   "source": [
    "gp = SingleTaskGP(\n",
    "  train_X=train_X,\n",
    "  train_Y=Y,\n",
    "  input_transform=Normalize(d=1),\n",
    "  outcome_transform=Standardize(m=1),\n",
    ")\n"
   ]
  },
  {
   "cell_type": "code",
   "execution_count": 14,
   "metadata": {},
   "outputs": [
    {
     "data": {
      "text/plain": [
       "(tensor([[0.8271],\n",
       "         [0.9392]], dtype=torch.float64),\n",
       " tensor([-2.1853, -2.1631], dtype=torch.float64))"
      ]
     },
     "execution_count": 14,
     "metadata": {},
     "output_type": "execute_result"
    }
   ],
   "source": [
    "acq = qLogExpectedImprovement(gp, Y.max())\n",
    "optimize_acqf(acq, torch.stack([torch.zeros(1), torch.ones(1)]).to(torch.double), 2, 5, 5, sequential=True)"
   ]
  },
  {
   "cell_type": "code",
   "execution_count": 5,
   "metadata": {},
   "outputs": [],
   "source": [
    "from botorch.acquisition import ProbabilityOfImprovement\n",
    "\n",
    "import torch\n",
    "from torch import Tensor\n",
    "from botorch.acquisition import qUpperConfidenceBound, qProbabilityOfImprovement, qLogExpectedImprovement\n",
    "from botorch.acquisition.monte_carlo import SampleReducingMCAcquisitionFunction"
   ]
  },
  {
   "cell_type": "code",
   "execution_count": 6,
   "metadata": {},
   "outputs": [],
   "source": [
    "class AnalyticAcquisitionFunctionWithCost(AnalyticAcquisitionFunction):\n",
    "    \"\"\"\n",
    "    This is the acquisition function EI(x) - c(x), where alpha is a decay\n",
    "    factor that reduces or increases the emphasis of the cost model c(x).\n",
    "    \"\"\"\n",
    "\n",
    "    def __init__(self, model, acqf, cost_model):\n",
    "        super().__init__(model=model)\n",
    "        self.model = model\n",
    "        self.cost_model = cost_model\n",
    "        self.acqf = acqf\n",
    "\n",
    "    def forward(self, X):\n",
    "        return self.acqf(X) - self.cost_model(X)[:, 0]\n",
    "    \n",
    "class MCAcquisitionFunctionWithCost(SampleReducingMCAcquisitionFunction):\n",
    "\n",
    "    def __init__(self, model, acqf, cost_model):\n",
    "    \n",
    "        super().__init__(model=model)\n",
    "        self.acqf = acqf\n",
    "        self.cost_model = cost_model\n",
    "\n",
    "    def _non_reduced_forward(self, X: Tensor) -> Tensor:\n",
    "        \"\"\"Compute the constrained acquisition values at the MC-sample, q level.\n",
    "\n",
    "        Args:\n",
    "            X: A `batch_shape x q x d` Tensor of t-batches with `q` `d`-dim\n",
    "                design points each.\n",
    "\n",
    "        Returns:\n",
    "            A Tensor with shape `sample_sample x batch_shape x q`.\n",
    "        \"\"\"\n",
    "\n",
    "        X_flat = X.view(-1, X.size(-1))\n",
    "        costs_flat = self.cost_model(X_flat) \n",
    "        costs = costs_flat.view(X.shape[0], X.shape[1])\n",
    "        costs = costs.unsqueeze(0).expand(self.sample_shape[0], -1, -1)\n",
    "\n",
    "        samples, obj = self._get_samples_and_objectives(X)\n",
    "        obj = obj - costs\n",
    "        samples = repeat_to_match_aug_dim(target_tensor=samples, reference_tensor=obj)\n",
    "        acqval = self._sample_forward(obj)  # `sample_sample x batch_shape x q`\n",
    "        return self._apply_constraints(acqval=acqval, samples=samples)\n",
    "\n",
    "    def _sample_forward(self, obj: Tensor) -> Tensor:\n",
    "        return self.acqf._sample_forward(obj)\n",
    "    \n"
   ]
  },
  {
   "cell_type": "code",
   "execution_count": 7,
   "metadata": {},
   "outputs": [],
   "source": [
    "class CostModel(torch.nn.Module, ABC):\n",
    "    \"\"\"\n",
    "    Simple abstract class for a cost model.\n",
    "    \"\"\"\n",
    "\n",
    "    @abstractmethod\n",
    "    def forward(self, X):\n",
    "        pass\n",
    "\n",
    "class ingredient_cost(CostModel):\n",
    "    def __init__(self, weights, fixed_cost):\n",
    "        super().__init__()\n",
    "        self.weights = weights\n",
    "        self.fixed_cost = fixed_cost\n",
    "        self.model =  AffineFidelityCostModel(fidelity_weights=weights, fixed_cost=fixed_cost)\n",
    "\n",
    "    def forward(self, X):\n",
    "        return self.model(X)[:, 0]"
   ]
  },
  {
   "cell_type": "code",
   "execution_count": 8,
   "metadata": {},
   "outputs": [],
   "source": [
    "cost = ingredient_cost(weights={0:0.0}, fixed_cost=1e-5)"
   ]
  },
  {
   "cell_type": "code",
   "execution_count": 9,
   "metadata": {},
   "outputs": [],
   "source": [
    "EI = LogExpectedImprovement(gp, Y.max())\n",
    "Eic= AnalyticAcquisitionFunctionWithCost(gp,\n",
    "                                    EI,\n",
    "                                    cost)"
   ]
  },
  {
   "cell_type": "code",
   "execution_count": 10,
   "metadata": {},
   "outputs": [
    {
     "data": {
      "text/plain": [
       "tensor([[0.]], dtype=torch.float64)"
      ]
     },
     "execution_count": 10,
     "metadata": {},
     "output_type": "execute_result"
    }
   ],
   "source": [
    "bounds = torch.stack([torch.zeros(1), torch.ones(1)]).to(torch.double)\n",
    "candidate, acq_value = optimize_acqf(\n",
    "  Eic, bounds=bounds, q=1, num_restarts=100, raw_samples=200,\n",
    ")\n",
    "candidate  # tensor([[0.2981, 0.2401]], dtype=torch.float64)"
   ]
  },
  {
   "cell_type": "code",
   "execution_count": 11,
   "metadata": {},
   "outputs": [
    {
     "data": {
      "text/plain": [
       "<matplotlib.collections.PathCollection at 0x18de7b44190>"
      ]
     },
     "execution_count": 11,
     "metadata": {},
     "output_type": "execute_result"
    },
    {
     "data": {
      "image/png": "[encoded data removed]",
      "text/plain": [
       "<Figure size 640x480 with 1 Axes>"
      ]
     },
     "metadata": {},
     "output_type": "display_data"
    }
   ],
   "source": [
    "plot_x = np.linspace(-5,5,100)\n",
    "plot_y = poly(plot_x)\n",
    "plot_x_tensor = torch.tensor(plot_x.reshape(-1,1))\n",
    "with torch.no_grad():\n",
    "    gp_mean, gp_var = gp.posterior(plot_x_tensor).mean, gp.posterior(plot_x_tensor).variance\n",
    "\n",
    "\n",
    "plt.plot(plot_x,plot_y)\n",
    "plt.scatter(train_X,Y, color = 'orange')\n",
    "plt.plot(plot_x_tensor.numpy(), gp_mean.numpy(), label=\"GP Mean\", color=\"red\", linestyle='dashed')\n",
    "plt.scatter(candidate, poly(candidate), color = 'green', marker='o', s= 50)"
   ]
  },
  {
   "cell_type": "code",
   "execution_count": 12,
   "metadata": {},
   "outputs": [
    {
     "ename": "NameError",
     "evalue": "name 'logEI' is not defined",
     "output_type": "error",
     "traceback": [
      "\u001b[31m---------------------------------------------------------------------------\u001b[39m",
      "\u001b[31mNameError\u001b[39m                                 Traceback (most recent call last)",
      "\u001b[36mCell\u001b[39m\u001b[36m \u001b[39m\u001b[32mIn[12]\u001b[39m\u001b[32m, line 1\u001b[39m\n\u001b[32m----> \u001b[39m\u001b[32m1\u001b[39m ei = \u001b[43mlogEI\u001b[49m(plot_x_tensor.unsqueeze(-\u001b[32m2\u001b[39m)).detach()\n\u001b[32m      2\u001b[39m pi = PI(plot_x_tensor.unsqueeze(-\u001b[32m2\u001b[39m)).detach()\n\u001b[32m      3\u001b[39m fig, axs = plt.subplots(\u001b[32m2\u001b[39m)\n",
      "\u001b[31mNameError\u001b[39m: name 'logEI' is not defined"
     ]
    }
   ],
   "source": [
    "ei = logEI(plot_x_tensor.unsqueeze(-2)).detach()\n",
    "pi = PI(plot_x_tensor.unsqueeze(-2)).detach()\n",
    "fig, axs = plt.subplots(2)\n",
    "axs[0].plot(plot_x_tensor.numpy(), ei.numpy(), color=\"orange\", linestyle='dashed', label='EI')\n",
    "axs[0].set_title(\"Expected Improvement of Surrogate GP\")\n",
    "fig.subplots_adjust(hspace=0.5)\n",
    "axs[1].plot(plot_x_tensor.numpy(), pi.numpy(), color=\"orange\", linestyle='dashed', label='PI')\n",
    "axs[1].set_title(\"Probability of Improvement of Surrogate GP\")\n",
    "fig.legend()"
   ]
  }
 ],
 "metadata": {
  "kernelspec": {
   "display_name": "Python 3",
   "language": "python",
   "name": "python3"
  },
  "language_info": {
   "codemirror_mode": {
    "name": "ipython",
    "version": 3
   },
   "file_extension": ".py",
   "mimetype": "text/x-python",
   "name": "python",
   "nbconvert_exporter": "python",
   "pygments_lexer": "ipython3",
   "version": "3.13.5"
  }
 },
 "nbformat": 4,
 "nbformat_minor": 2
}
